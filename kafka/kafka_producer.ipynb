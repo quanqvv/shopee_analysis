{
 "cells": [
  {
   "cell_type": "code",
   "execution_count": 1,
   "metadata": {},
   "outputs": [],
   "source": [
    "import sys\n",
    "sys.path.append('../craw-data')\n",
    "from kafka import KafkaProducer\n",
    "import requests\n",
    "from json import dumps\n",
    "import time\n",
    "from kafka import KafkaConsumer"
   ]
  },
  {
   "cell_type": "code",
   "execution_count": 2,
   "metadata": {},
   "outputs": [],
   "source": [
    "from get_detaill_item import get_detail_product\n",
    "from get_item_and_shop_ids import get_item_shop_info"
   ]
  },
  {
   "cell_type": "code",
   "execution_count": 3,
   "metadata": {},
   "outputs": [
    {
     "data": {
      "text/html": [
       "<div>\n",
       "<style scoped>\n",
       "    .dataframe tbody tr th:only-of-type {\n",
       "        vertical-align: middle;\n",
       "    }\n",
       "\n",
       "    .dataframe tbody tr th {\n",
       "        vertical-align: top;\n",
       "    }\n",
       "\n",
       "    .dataframe thead th {\n",
       "        text-align: right;\n",
       "    }\n",
       "</style>\n",
       "<table border=\"1\" class=\"dataframe\">\n",
       "  <thead>\n",
       "    <tr style=\"text-align: right;\">\n",
       "      <th></th>\n",
       "      <th>catid</th>\n",
       "      <th>parent_catid</th>\n",
       "      <th>name</th>\n",
       "      <th>display_name</th>\n",
       "      <th>image</th>\n",
       "      <th>unselected_image</th>\n",
       "      <th>selected_image</th>\n",
       "      <th>level</th>\n",
       "      <th>children</th>\n",
       "      <th>block_buyer_platform</th>\n",
       "    </tr>\n",
       "  </thead>\n",
       "  <tbody>\n",
       "    <tr>\n",
       "      <th>0</th>\n",
       "      <td>11035567</td>\n",
       "      <td>0</td>\n",
       "      <td>Men Clothes</td>\n",
       "      <td>Thời Trang Nam</td>\n",
       "      <td>687f3967b7c2fe6a134a2c11894eea4b</td>\n",
       "      <td>fe2d27d140e1f34855c1bfe3168c1b58</td>\n",
       "      <td>9131b98c529e7ccfffc36193432aa927</td>\n",
       "      <td>1</td>\n",
       "      <td>NaN</td>\n",
       "      <td>NaN</td>\n",
       "    </tr>\n",
       "    <tr>\n",
       "      <th>1</th>\n",
       "      <td>11035639</td>\n",
       "      <td>0</td>\n",
       "      <td>Women Clothes</td>\n",
       "      <td>Thời Trang Nữ</td>\n",
       "      <td>75ea42f9eca124e9cb3cde744c060e4d</td>\n",
       "      <td>293ca6f400001a38f477ef1c8ebe2831</td>\n",
       "      <td>7002b396e4d22be3decacceeef762265</td>\n",
       "      <td>1</td>\n",
       "      <td>NaN</td>\n",
       "      <td>NaN</td>\n",
       "    </tr>\n",
       "    <tr>\n",
       "      <th>2</th>\n",
       "      <td>11036030</td>\n",
       "      <td>0</td>\n",
       "      <td>Mobile &amp; Gadgets</td>\n",
       "      <td>Điện Thoại &amp; Phụ Kiện</td>\n",
       "      <td>31234a27876fb89cd522d7e3db1ba5ca</td>\n",
       "      <td>94fb4fb95a8598e8d31f0853f904c15b</td>\n",
       "      <td>070098d9b3cf1a1d35be2a6ef1bb3cd0</td>\n",
       "      <td>1</td>\n",
       "      <td>NaN</td>\n",
       "      <td>NaN</td>\n",
       "    </tr>\n",
       "    <tr>\n",
       "      <th>3</th>\n",
       "      <td>11036194</td>\n",
       "      <td>0</td>\n",
       "      <td>Moms, Kids &amp; Babies</td>\n",
       "      <td>Mẹ &amp; Bé</td>\n",
       "      <td>099edde1ab31df35bc255912bab54a5e</td>\n",
       "      <td>f91ae14aebd454762ab61136ebcec4e0</td>\n",
       "      <td>9b56c2810b51f8a017b76c3cefc84daf</td>\n",
       "      <td>1</td>\n",
       "      <td>NaN</td>\n",
       "      <td>NaN</td>\n",
       "    </tr>\n",
       "    <tr>\n",
       "      <th>4</th>\n",
       "      <td>11036132</td>\n",
       "      <td>0</td>\n",
       "      <td>Consumer Electronics</td>\n",
       "      <td>Thiết Bị Điện Tử</td>\n",
       "      <td>978b9e4cb61c611aaaf58664fae133c5</td>\n",
       "      <td>4a6a4d8230cf961e18636fbf91bad4b5</td>\n",
       "      <td>067bd7ff52bd0d3700d9b0af722e83c9</td>\n",
       "      <td>1</td>\n",
       "      <td>NaN</td>\n",
       "      <td>NaN</td>\n",
       "    </tr>\n",
       "  </tbody>\n",
       "</table>\n",
       "</div>"
      ],
      "text/plain": [
       "      catid  parent_catid                  name           display_name  \\\n",
       "0  11035567             0           Men Clothes         Thời Trang Nam   \n",
       "1  11035639             0         Women Clothes          Thời Trang Nữ   \n",
       "2  11036030             0      Mobile & Gadgets  Điện Thoại & Phụ Kiện   \n",
       "3  11036194             0   Moms, Kids & Babies                Mẹ & Bé   \n",
       "4  11036132             0  Consumer Electronics       Thiết Bị Điện Tử   \n",
       "\n",
       "                              image                  unselected_image  \\\n",
       "0  687f3967b7c2fe6a134a2c11894eea4b  fe2d27d140e1f34855c1bfe3168c1b58   \n",
       "1  75ea42f9eca124e9cb3cde744c060e4d  293ca6f400001a38f477ef1c8ebe2831   \n",
       "2  31234a27876fb89cd522d7e3db1ba5ca  94fb4fb95a8598e8d31f0853f904c15b   \n",
       "3  099edde1ab31df35bc255912bab54a5e  f91ae14aebd454762ab61136ebcec4e0   \n",
       "4  978b9e4cb61c611aaaf58664fae133c5  4a6a4d8230cf961e18636fbf91bad4b5   \n",
       "\n",
       "                     selected_image  level  children block_buyer_platform  \n",
       "0  9131b98c529e7ccfffc36193432aa927      1       NaN                  NaN  \n",
       "1  7002b396e4d22be3decacceeef762265      1       NaN                  NaN  \n",
       "2  070098d9b3cf1a1d35be2a6ef1bb3cd0      1       NaN                  NaN  \n",
       "3  9b56c2810b51f8a017b76c3cefc84daf      1       NaN                  NaN  \n",
       "4  067bd7ff52bd0d3700d9b0af722e83c9      1       NaN                  NaN  "
      ]
     },
     "execution_count": 3,
     "metadata": {},
     "output_type": "execute_result"
    }
   ],
   "source": [
    "import pandas as pd\n",
    "categoryList = pd.read_csv('../craw-data/raw-data/category_list.csv')\n",
    "categoryList.head()"
   ]
  },
  {
   "cell_type": "code",
   "execution_count": 4,
   "metadata": {},
   "outputs": [],
   "source": [
    "def get_data(raw_dict, list_attribute):\n",
    "    output = {}\n",
    "    for att in list_attribute:\n",
    "        output[att] = raw_dict[att]\n",
    "    return output"
   ]
  },
  {
   "cell_type": "code",
   "execution_count": 9,
   "metadata": {},
   "outputs": [
    {
     "name": "stdout",
     "output_type": "stream",
     "text": [
      "topic 26 \"Voucher & Dịch Vụ\" is runing...\n",
      "An exception occurred with match_id 11035898 and newest 0 \n"
     ]
    },
    {
     "ename": "AttributeError",
     "evalue": "'NoneType' object has no attribute 'shape'",
     "output_type": "error",
     "traceback": [
      "\u001b[1;31m---------------------------------------------------------------------------\u001b[0m",
      "\u001b[1;31mAttributeError\u001b[0m                            Traceback (most recent call last)",
      "\u001b[1;32m~\\AppData\\Local\\Temp/ipykernel_3288/863920601.py\u001b[0m in \u001b[0;36m<module>\u001b[1;34m\u001b[0m\n\u001b[0;32m     11\u001b[0m     \u001b[1;32mfor\u001b[0m \u001b[0mnewest\u001b[0m \u001b[1;32min\u001b[0m \u001b[0mrange\u001b[0m\u001b[1;33m(\u001b[0m\u001b[1;36m0\u001b[0m\u001b[1;33m,\u001b[0m\u001b[1;36m8001\u001b[0m\u001b[1;33m,\u001b[0m\u001b[1;36m60\u001b[0m\u001b[1;33m)\u001b[0m\u001b[1;33m:\u001b[0m\u001b[1;33m\u001b[0m\u001b[1;33m\u001b[0m\u001b[0m\n\u001b[0;32m     12\u001b[0m         \u001b[0mitem_list_id\u001b[0m \u001b[1;33m=\u001b[0m \u001b[0mget_item_shop_info\u001b[0m\u001b[1;33m(\u001b[0m\u001b[0mtopic\u001b[0m\u001b[1;33m,\u001b[0m\u001b[0mnewest\u001b[0m\u001b[1;33m)\u001b[0m\u001b[1;33m\u001b[0m\u001b[1;33m\u001b[0m\u001b[0m\n\u001b[1;32m---> 13\u001b[1;33m         \u001b[0mdata\u001b[0m\u001b[1;33m.\u001b[0m\u001b[0mextend\u001b[0m\u001b[1;33m(\u001b[0m\u001b[0mget_detail_product\u001b[0m\u001b[1;33m(\u001b[0m\u001b[0mitem_list_id\u001b[0m\u001b[1;33m,\u001b[0m\u001b[0mtopic\u001b[0m\u001b[1;33m)\u001b[0m\u001b[1;33m)\u001b[0m\u001b[1;33m\u001b[0m\u001b[1;33m\u001b[0m\u001b[0m\n\u001b[0m\u001b[0;32m     14\u001b[0m     \u001b[0mmessage_data\u001b[0m \u001b[1;33m=\u001b[0m \u001b[0mlist\u001b[0m\u001b[1;33m(\u001b[0m\u001b[0mmap\u001b[0m\u001b[1;33m(\u001b[0m\u001b[1;32mlambda\u001b[0m \u001b[0mx\u001b[0m\u001b[1;33m:\u001b[0m \u001b[0mget_data\u001b[0m\u001b[1;33m(\u001b[0m\u001b[0mx\u001b[0m\u001b[1;33m,\u001b[0m\u001b[0mlist_attributes\u001b[0m\u001b[1;33m)\u001b[0m\u001b[1;33m,\u001b[0m\u001b[0mdata\u001b[0m\u001b[1;33m)\u001b[0m\u001b[1;33m)\u001b[0m\u001b[1;33m\u001b[0m\u001b[1;33m\u001b[0m\u001b[0m\n\u001b[0;32m     15\u001b[0m     \u001b[1;32mfor\u001b[0m \u001b[0mit\u001b[0m \u001b[1;32min\u001b[0m \u001b[0mmessage_data\u001b[0m\u001b[1;33m:\u001b[0m\u001b[1;33m\u001b[0m\u001b[1;33m\u001b[0m\u001b[0m\n",
      "\u001b[1;32me:\\Python\\shopee_analysis\\kafka\\../craw-data\\get_detaill_item.py\u001b[0m in \u001b[0;36mget_detail_product\u001b[1;34m(item_shop_id, topic)\u001b[0m\n\u001b[0;32m      7\u001b[0m     \u001b[0murl_detail_item\u001b[0m \u001b[1;33m=\u001b[0m \u001b[1;34m'https://shopee.vn/api/v4/item/get?itemid={}&shopid={}'\u001b[0m\u001b[1;33m\u001b[0m\u001b[1;33m\u001b[0m\u001b[0m\n\u001b[0;32m      8\u001b[0m     \u001b[0mdf\u001b[0m \u001b[1;33m=\u001b[0m \u001b[1;33m[\u001b[0m\u001b[1;33m]\u001b[0m\u001b[1;33m\u001b[0m\u001b[1;33m\u001b[0m\u001b[0m\n\u001b[1;32m----> 9\u001b[1;33m     \u001b[1;32mfor\u001b[0m \u001b[0mx\u001b[0m \u001b[1;32min\u001b[0m \u001b[0mtqdm\u001b[0m\u001b[1;33m(\u001b[0m\u001b[0mrange\u001b[0m\u001b[1;33m(\u001b[0m\u001b[0mitem_shop_id\u001b[0m\u001b[1;33m.\u001b[0m\u001b[0mshape\u001b[0m\u001b[1;33m[\u001b[0m\u001b[1;36m0\u001b[0m\u001b[1;33m]\u001b[0m\u001b[1;33m)\u001b[0m\u001b[1;33m)\u001b[0m\u001b[1;33m:\u001b[0m\u001b[1;33m\u001b[0m\u001b[1;33m\u001b[0m\u001b[0m\n\u001b[0m\u001b[0;32m     10\u001b[0m         \u001b[0ma\u001b[0m\u001b[1;33m,\u001b[0m\u001b[0mb\u001b[0m \u001b[1;33m=\u001b[0m \u001b[0mitem_shop_id\u001b[0m\u001b[1;33m.\u001b[0m\u001b[0mvalues\u001b[0m\u001b[1;33m[\u001b[0m\u001b[0mx\u001b[0m\u001b[1;33m]\u001b[0m\u001b[1;33m\u001b[0m\u001b[1;33m\u001b[0m\u001b[0m\n\u001b[0;32m     11\u001b[0m         \u001b[1;32mtry\u001b[0m\u001b[1;33m:\u001b[0m\u001b[1;33m\u001b[0m\u001b[1;33m\u001b[0m\u001b[0m\n",
      "\u001b[1;31mAttributeError\u001b[0m: 'NoneType' object has no attribute 'shape'"
     ]
    }
   ],
   "source": [
    "from kafka import KafkaProducer\n",
    "kafka_producer = KafkaProducer(bootstrap_servers='localhost:9092', value_serializer=lambda x: dumps(x).encode('utf-8'))\n",
    "# from a - b category\n",
    "a = 26\n",
    "b = 27\n",
    "list_attributes = [\"itemid\", \"shopid\", \"price_before_discount\", \"price\", \"discount\", \"historical_sold\", \"sold\", \"name\", \"item_status\", \"item_rating\", \"liked_count\", \"cmt_count\", \"item_type\", \"shop_location\", \"global_sold\", \"shop_vouchers\", \"categories\"]\n",
    "for item in range(a,b):\n",
    "    data = []\n",
    "    topic = categoryList.catid.iloc[item]\n",
    "    print(f'topic {item} \"{categoryList.display_name.iloc[item]}\" is runing...')\n",
    "    for newest in range(0,8001,60): \n",
    "        item_list_id = get_item_shop_info(topic,newest)\n",
    "        data.extend(get_detail_product(item_list_id,topic))\n",
    "    message_data = list(map(lambda x: get_data(x,list_attributes),data))\n",
    "    for it in message_data:\n",
    "        print(\"publishing to kafka...\")\n",
    "        kafka_producer.send('item-shopee', value=it)\n",
    "\n"
   ]
  },
  {
   "cell_type": "code",
   "execution_count": 6,
   "metadata": {},
   "outputs": [],
   "source": [
    "# Bán chạy nhất(số lượng bán nhiều nhất) (theo category)\n",
    "# Doanh thu cao nhất (theo category)\n",
    "# Discount nhiều nhất (theo category)\n",
    "# Rating (theo product)\n",
    "# Phân tích số lượng sản phẩm bán được theo location\n",
    "# Loại mặt hàng có nhiều tương tác nhất (dựa vào số like, số comment)\n",
    "\n",
    "\n",
    "# itemid, shopid, price_before_discount, price, discount, historical_sold, sold, name, item_status, item_rating, liked_count, cmt_count, item_type, shop_location, global_sold, shop_vouchers, categories"
   ]
  }
 ],
 "metadata": {
  "interpreter": {
   "hash": "0136fb98878f2c037a786f1e346cbebb20f85b5d56d3fdaaf56b1008ea37aa39"
  },
  "kernelspec": {
   "display_name": "Python 3.7.8 64-bit ('venv': venv)",
   "language": "python",
   "name": "python3"
  },
  "language_info": {
   "codemirror_mode": {
    "name": "ipython",
    "version": 3
   },
   "file_extension": ".py",
   "mimetype": "text/x-python",
   "name": "python",
   "nbconvert_exporter": "python",
   "pygments_lexer": "ipython3",
   "version": "3.8.10"
  },
  "orig_nbformat": 4
 },
 "nbformat": 4,
 "nbformat_minor": 2
}
